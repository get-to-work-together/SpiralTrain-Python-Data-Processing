{
 "cells": [
  {
   "cell_type": "markdown",
   "metadata": {},
   "source": [
    "# Data ophalen van een API"
   ]
  },
  {
   "cell_type": "code",
   "execution_count": 1,
   "metadata": {},
   "outputs": [],
   "source": [
    "import requests"
   ]
  },
  {
   "cell_type": "markdown",
   "metadata": {},
   "source": [
    "### Openweathermap.org\n",
    "\n",
    "http://api.openweathermap.org"
   ]
  },
  {
   "cell_type": "code",
   "execution_count": 12,
   "metadata": {},
   "outputs": [
    {
     "name": "stdout",
     "output_type": "stream",
     "text": [
      "http://api.openweathermap.org/data/2.5/weather?appid=d1526a9039658a6f76950cff21823aff&units=metric&mode=json&lang=nl&q=Timbuktu\n"
     ]
    }
   ],
   "source": [
    "city = 'Timbuktu'\n",
    "\n",
    "url  = 'http://api.openweathermap.org/data/2.5/weather'\n",
    "url += '?appid=d1526a9039658a6f76950cff21823aff'\n",
    "url += '&units=metric'\n",
    "url += '&mode=json'\n",
    "url += '&lang=nl'\n",
    "url += '&q=' + city\n",
    "\n",
    "print(url)"
   ]
  },
  {
   "cell_type": "code",
   "execution_count": 13,
   "metadata": {},
   "outputs": [],
   "source": [
    "r = requests.get(url)"
   ]
  },
  {
   "cell_type": "code",
   "execution_count": 14,
   "metadata": {},
   "outputs": [
    {
     "data": {
      "text/plain": [
       "200"
      ]
     },
     "execution_count": 14,
     "metadata": {},
     "output_type": "execute_result"
    }
   ],
   "source": [
    "r.status_code"
   ]
  },
  {
   "cell_type": "code",
   "execution_count": 15,
   "metadata": {},
   "outputs": [
    {
     "name": "stdout",
     "output_type": "stream",
     "text": [
      "{\"coord\":{\"lon\":-3.0074,\"lat\":16.7735},\"weather\":[{\"id\":800,\"main\":\"Clear\",\"description\":\"onbewolkt\",\"icon\":\"01d\"}],\"base\":\"stations\",\"main\":{\"temp\":41.65,\"feels_like\":37.79,\"temp_min\":41.65,\"temp_max\":41.65,\"pressure\":1007,\"humidity\":6,\"sea_level\":1007,\"grnd_level\":978},\"visibility\":10000,\"wind\":{\"speed\":5.42,\"deg\":74,\"gust\":7.07},\"clouds\":{\"all\":4},\"dt\":1654859956,\"sys\":{\"country\":\"ML\",\"sunrise\":1654839500,\"sunset\":1654886687},\"timezone\":0,\"id\":2449067,\"name\":\"Timboektoe\",\"cod\":200}\n"
     ]
    }
   ],
   "source": [
    "print(r.text)"
   ]
  },
  {
   "cell_type": "code",
   "execution_count": 16,
   "metadata": {},
   "outputs": [
    {
     "name": "stdout",
     "output_type": "stream",
     "text": [
      "Het is 41°C en onbewolkt in Timbuktu\n"
     ]
    }
   ],
   "source": [
    "d = r.json()\n",
    "\n",
    "temperature = d['main']['temp']\n",
    "weather = d['weather'][0]['description'] \n",
    "\n",
    "print('Het is %d°C en %s in %s' % (temperature, weather, city))"
   ]
  },
  {
   "cell_type": "code",
   "execution_count": null,
   "metadata": {},
   "outputs": [],
   "source": []
  }
 ],
 "metadata": {
  "kernelspec": {
   "display_name": "Python 3 (ipykernel)",
   "language": "python",
   "name": "python3"
  },
  "language_info": {
   "codemirror_mode": {
    "name": "ipython",
    "version": 3
   },
   "file_extension": ".py",
   "mimetype": "text/x-python",
   "name": "python",
   "nbconvert_exporter": "python",
   "pygments_lexer": "ipython3",
   "version": "3.9.13"
  }
 },
 "nbformat": 4,
 "nbformat_minor": 2
}
