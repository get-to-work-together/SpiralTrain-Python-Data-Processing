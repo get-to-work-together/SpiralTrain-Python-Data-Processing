{
 "cells": [
  {
   "cell_type": "code",
   "execution_count": 1,
   "id": "1ca9c8da",
   "metadata": {},
   "outputs": [
    {
     "name": "stdout",
     "output_type": "stream",
     "text": [
      "Hello from a Jupyter Notebook\n"
     ]
    }
   ],
   "source": [
    "print('Hello from a Jupyter Notebook')"
   ]
  },
  {
   "cell_type": "markdown",
   "id": "9373104f",
   "metadata": {},
   "source": [
    "# This is my new notebook\n",
    "\n",
    "You can add comments an explanations\n",
    "\n",
    "* A\n",
    "* B\n",
    "* Eggs\n",
    "\n",
    "https://www.anaconda.com/"
   ]
  },
  {
   "cell_type": "code",
   "execution_count": null,
   "id": "6b1c6d73",
   "metadata": {},
   "outputs": [],
   "source": []
  }
 ],
 "metadata": {
  "kernelspec": {
   "display_name": "Python 3 (ipykernel)",
   "language": "python",
   "name": "python3"
  },
  "language_info": {
   "codemirror_mode": {
    "name": "ipython",
    "version": 3
   },
   "file_extension": ".py",
   "mimetype": "text/x-python",
   "name": "python",
   "nbconvert_exporter": "python",
   "pygments_lexer": "ipython3",
   "version": "3.9.7"
  }
 },
 "nbformat": 4,
 "nbformat_minor": 5
}
