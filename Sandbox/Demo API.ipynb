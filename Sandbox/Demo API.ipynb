{
 "cells": [
  {
   "cell_type": "code",
   "execution_count": 5,
   "id": "f219d9a3",
   "metadata": {},
   "outputs": [],
   "source": [
    "import requests"
   ]
  },
  {
   "cell_type": "markdown",
   "id": "2794e28b",
   "metadata": {},
   "source": [
    "# API - Application Programming Interface"
   ]
  },
  {
   "cell_type": "code",
   "execution_count": 2,
   "id": "430b5a8b",
   "metadata": {},
   "outputs": [
    {
     "data": {
      "text/plain": [
       "'d1526a9039658a6f76950cff21823aff'"
      ]
     },
     "execution_count": 2,
     "metadata": {},
     "output_type": "execute_result"
    }
   ],
   "source": [
    "appid = 'd152 6a90 3965 8a6f 7695 0cff 2182 3aff'.replace(' ','')\n",
    "appid"
   ]
  },
  {
   "cell_type": "code",
   "execution_count": 57,
   "id": "713615c0",
   "metadata": {},
   "outputs": [
    {
     "data": {
      "text/plain": [
       "'http://api.openweathermap.org/data/2.5/weather?appid=d1526a9039658a6f76950cff21823aff&units=metric&mode=json&lang=nl&q=de zilk'"
      ]
     },
     "execution_count": 57,
     "metadata": {},
     "output_type": "execute_result"
    }
   ],
   "source": [
    "city = 'de zilk'\n",
    "\n",
    "url = 'http://api.openweathermap.org/data/2.5/weather' + \\\n",
    "      '?appid=' + appid + \\\n",
    "      '&units=metric' + \\\n",
    "      '&mode=json' + \\\n",
    "      '&lang=nl' + \\\n",
    "      '&q=' + city\n",
    "\n",
    "url"
   ]
  },
  {
   "cell_type": "code",
   "execution_count": 58,
   "id": "6d217d2c",
   "metadata": {},
   "outputs": [],
   "source": [
    "response = requests.get(url)"
   ]
  },
  {
   "cell_type": "code",
   "execution_count": 59,
   "id": "1aee39ec",
   "metadata": {},
   "outputs": [
    {
     "data": {
      "text/plain": [
       "200"
      ]
     },
     "execution_count": 59,
     "metadata": {},
     "output_type": "execute_result"
    }
   ],
   "source": [
    "response.status_code"
   ]
  },
  {
   "cell_type": "code",
   "execution_count": 60,
   "id": "13a66d53",
   "metadata": {},
   "outputs": [
    {
     "data": {
      "text/plain": [
       "{'coord': {'lon': 4.5432, 'lat': 52.3024},\n",
       " 'weather': [{'id': 800,\n",
       "   'main': 'Clear',\n",
       "   'description': 'onbewolkt',\n",
       "   'icon': '01d'}],\n",
       " 'base': 'stations',\n",
       " 'main': {'temp': 18.58,\n",
       "  'feels_like': 17.46,\n",
       "  'temp_min': 17.19,\n",
       "  'temp_max': 19.97,\n",
       "  'pressure': 1014,\n",
       "  'humidity': 37},\n",
       " 'visibility': 10000,\n",
       " 'wind': {'speed': 4.12, 'deg': 70},\n",
       " 'clouds': {'all': 0},\n",
       " 'dt': 1650372468,\n",
       " 'sys': {'type': 2,\n",
       "  'id': 2041162,\n",
       "  'country': 'NL',\n",
       "  'sunrise': 1650342955,\n",
       "  'sunset': 1650393938},\n",
       " 'timezone': 7200,\n",
       " 'id': 2755002,\n",
       " 'name': 'De Zilk',\n",
       " 'cod': 200}"
      ]
     },
     "execution_count": 60,
     "metadata": {},
     "output_type": "execute_result"
    }
   ],
   "source": [
    "data = response.json()\n",
    "data"
   ]
  },
  {
   "cell_type": "code",
   "execution_count": 61,
   "id": "96c8e986",
   "metadata": {},
   "outputs": [
    {
     "data": {
      "text/plain": [
       "dict"
      ]
     },
     "execution_count": 61,
     "metadata": {},
     "output_type": "execute_result"
    }
   ],
   "source": [
    "type(data)"
   ]
  },
  {
   "cell_type": "code",
   "execution_count": 65,
   "id": "98703e69",
   "metadata": {},
   "outputs": [],
   "source": [
    "temperatuur = data['main']['temp']"
   ]
  },
  {
   "cell_type": "code",
   "execution_count": 69,
   "id": "866bda8d",
   "metadata": {},
   "outputs": [
    {
     "name": "stdout",
     "output_type": "stream",
     "text": [
      "In de zilk is het nu 19 graden.\n"
     ]
    }
   ],
   "source": [
    "print('In ' + city + ' is het nu ' + str(round(temperatuur)) + ' graden.')"
   ]
  },
  {
   "cell_type": "code",
   "execution_count": null,
   "id": "6c57a8f3",
   "metadata": {},
   "outputs": [],
   "source": []
  }
 ],
 "metadata": {
  "kernelspec": {
   "display_name": "Python 3 (ipykernel)",
   "language": "python",
   "name": "python3"
  },
  "language_info": {
   "codemirror_mode": {
    "name": "ipython",
    "version": 3
   },
   "file_extension": ".py",
   "mimetype": "text/x-python",
   "name": "python",
   "nbconvert_exporter": "python",
   "pygments_lexer": "ipython3",
   "version": "3.9.10"
  }
 },
 "nbformat": 4,
 "nbformat_minor": 5
}
